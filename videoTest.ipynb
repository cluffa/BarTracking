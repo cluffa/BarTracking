{
 "cells": [
  {
   "cell_type": "code",
   "execution_count": 1,
   "metadata": {},
   "outputs": [],
   "source": [
    "import torch\n",
    "import numpy as np\n",
    "import cv2\n",
    "import matplotlib.pyplot as plt\n",
    "\n",
    "from skimage.measure import centroid, find_contours\n",
    "from torchvision import transforms\n",
    "from torch.utils.data import DataLoader\n",
    "from PIL import Image, ImageDraw\n",
    "\n",
    "from myUtils import *\n",
    "\n",
    "RES = 320"
   ]
  },
  {
   "cell_type": "code",
   "execution_count": 2,
   "metadata": {},
   "outputs": [],
   "source": [
    "model = torch.load(f'./best_model.pth').eval().cuda()"
   ]
  },
  {
   "cell_type": "code",
   "execution_count": 3,
   "metadata": {},
   "outputs": [],
   "source": [
    "fp_in = './test_input2.mp4'\n",
    "\n",
    "vidcap = cv2.VideoCapture(fp_in)\n",
    "frameCount = int(vidcap.get(cv2.CAP_PROP_FRAME_COUNT))\n",
    "frameRate = int(vidcap.get(cv2.CAP_PROP_FPS))\n",
    "video = torch.empty((frameCount, 3, RES, RES))\n",
    "\n",
    "success = True\n",
    "i = 0\n",
    "while success:\n",
    "    success, frame = vidcap.read()\n",
    "    if success:\n",
    "        frame = cv2.cvtColor(frame, cv2.COLOR_BGR2RGB)\n",
    "        frame = cv2.resize(frame, (RES, RES))\n",
    "        frame = transforms.ToTensor()(frame)\n",
    "        video[i] = frame\n",
    "        i += 1"
   ]
  },
  {
   "cell_type": "code",
   "execution_count": 4,
   "metadata": {},
   "outputs": [
    {
     "data": {
      "text/plain": [
       "275"
      ]
     },
     "execution_count": 4,
     "metadata": {},
     "output_type": "execute_result"
    }
   ],
   "source": [
    "frameCount"
   ]
  },
  {
   "cell_type": "code",
   "execution_count": 5,
   "metadata": {},
   "outputs": [
    {
     "data": {
      "text/plain": [
       "torch.Size([275, 3, 320, 320])"
      ]
     },
     "execution_count": 5,
     "metadata": {},
     "output_type": "execute_result"
    }
   ],
   "source": [
    "video.shape"
   ]
  },
  {
   "cell_type": "code",
   "execution_count": 6,
   "metadata": {},
   "outputs": [],
   "source": [
    "dataloader = DataLoader(video, batch_size=4)"
   ]
  },
  {
   "cell_type": "code",
   "execution_count": 7,
   "metadata": {},
   "outputs": [
    {
     "name": "stderr",
     "output_type": "stream",
     "text": [
      "/root/workspace/tracking/venv/lib/python3.9/site-packages/torch/nn/functional.py:780: UserWarning: Note that order of the arguments: ceil_mode and return_indices will changeto match the args list in nn.MaxPool2d in a future release.\n",
      "  warnings.warn(\"Note that order of the arguments: ceil_mode and return_indices will change\"\n"
     ]
    }
   ],
   "source": [
    "mask = torch.empty((frameCount, 3, RES, RES), dtype=torch.float64)\n",
    "filledTo = 0\n",
    "for batch in dataloader:\n",
    "    batch = batch.cuda()\n",
    "    size = batch.shape[0]\n",
    "    pred = model(batch)\n",
    "\n",
    "    # add pred to mask\n",
    "    mask[filledTo:(filledTo + size)] = pred.cpu().detach()\n",
    "    filledTo += size\n",
    "\n",
    "del batch, pred, model\n",
    "torch.cuda.empty_cache()\n",
    "\n",
    "mask = mask.numpy()"
   ]
  },
  {
   "cell_type": "code",
   "execution_count": 8,
   "metadata": {},
   "outputs": [
    {
     "data": {
      "text/plain": [
       "(275, 3, 320, 320)"
      ]
     },
     "execution_count": 8,
     "metadata": {},
     "output_type": "execute_result"
    }
   ],
   "source": [
    "mask.shape"
   ]
  },
  {
   "cell_type": "code",
   "execution_count": 9,
   "metadata": {},
   "outputs": [],
   "source": [
    "center = np.empty((frameCount, 2, 2))\n",
    "box = np.empty((frameCount, 2, 4))\n",
    "area = mask[:, :2].sum(axis=(2, 3))\n",
    "\n",
    "idx = 0\n",
    "for frame in mask:\n",
    "    center[idx, 0, :] = centroid(frame[0])[::-1]\n",
    "    center[idx, 1, :] = centroid(frame[1])[::-1]\n",
    "\n",
    "    contour = find_contours(frame[0])[0], find_contours(frame[1])[0]\n",
    "\n",
    "    box[idx] = np.stack((\n",
    "        np.concatenate((contour[0].min(axis=0), contour[0].max(axis=0))),\n",
    "        np.concatenate((contour[1].min(axis=0), contour[1].max(axis=0)))\n",
    "        ))\n",
    "\n",
    "    idx += 1\n",
    "\n",
    "center = center/RES\n",
    "center[:, :, 1] = 1 - center[:, :, 1]\n",
    "\n",
    "diff = np.zeros((frameCount, 2, 2))\n",
    "diff[:-2] = np.abs(center[0:-2, :, :] - center[1:-1, :, :])"
   ]
  },
  {
   "cell_type": "markdown",
   "metadata": {},
   "source": [
    "Average height and width throughout sequence and between sides."
   ]
  },
  {
   "cell_type": "code",
   "execution_count": 10,
   "metadata": {},
   "outputs": [
    {
     "data": {
      "text/plain": [
       "(275, 2, 4)"
      ]
     },
     "execution_count": 10,
     "metadata": {},
     "output_type": "execute_result"
    }
   ],
   "source": [
    "box.shape"
   ]
  },
  {
   "cell_type": "code",
   "execution_count": 11,
   "metadata": {},
   "outputs": [
    {
     "data": {
      "text/plain": [
       "(275, 2, 2)"
      ]
     },
     "execution_count": 11,
     "metadata": {},
     "output_type": "execute_result"
    }
   ],
   "source": [
    "dim = np.stack((box[:, :, 3] - box[:, :, 1], box[:, :, 2] - box[:, :, 0]), axis=-1)\n",
    "dim.shape"
   ]
  },
  {
   "cell_type": "markdown",
   "metadata": {},
   "source": [
    "Plot of height and width of both sides in pixels (default image res is 320x320)."
   ]
  },
  {
   "cell_type": "code",
   "execution_count": 12,
   "metadata": {},
   "outputs": [
    {
     "data": {
      "text/plain": [
       "[<matplotlib.lines.Line2D at 0x7ff6a3ff5640>,\n",
       " <matplotlib.lines.Line2D at 0x7ff6a3ff5670>,\n",
       " <matplotlib.lines.Line2D at 0x7ff6a3ff5610>,\n",
       " <matplotlib.lines.Line2D at 0x7ff6a3ff5580>]"
      ]
     },
     "execution_count": 12,
     "metadata": {},
     "output_type": "execute_result"
    },
    {
     "data": {
      "image/png": "[encoded data removed]",
      "text/plain": [
       "<Figure size 432x288 with 1 Axes>"
      ]
     },
     "metadata": {
      "needs_background": "light"
     },
     "output_type": "display_data"
    }
   ],
   "source": [
    "plt.plot(np.concatenate((dim[:, 0], dim[:, 1]), axis=1))"
   ]
  },
  {
   "cell_type": "markdown",
   "metadata": {},
   "source": [
    "Median dimensions of plates as a percent of the frame."
   ]
  },
  {
   "cell_type": "code",
   "execution_count": 13,
   "metadata": {},
   "outputs": [
    {
     "data": {
      "text/plain": [
       "array([0.19247861, 0.21588447])"
      ]
     },
     "execution_count": 13,
     "metadata": {},
     "output_type": "execute_result"
    }
   ],
   "source": [
    "expectedDim = np.quantile(dim.mean(axis=1), 0.50, axis=0)/RES\n",
    "expectedDim"
   ]
  },
  {
   "cell_type": "markdown",
   "metadata": {},
   "source": [
    "Coefficients to convert x and y units into meters."
   ]
  },
  {
   "cell_type": "code",
   "execution_count": 14,
   "metadata": {},
   "outputs": [
    {
     "name": "stdout",
     "output_type": "stream",
     "text": [
      "[2.33792214 2.08444821]\n"
     ]
    }
   ],
   "source": [
    "coef = 0.450/expectedDim\n",
    "print(coef)\n",
    "center_m = np.multiply(center, coef)"
   ]
  },
  {
   "cell_type": "markdown",
   "metadata": {},
   "source": [
    "Remove abnormally small segmentations or points that make a large jump"
   ]
  },
  {
   "cell_type": "code",
   "execution_count": 15,
   "metadata": {},
   "outputs": [
    {
     "data": {
      "text/plain": [
       "0.033817510359304345"
      ]
     },
     "execution_count": 15,
     "metadata": {},
     "output_type": "execute_result"
    }
   ],
   "source": [
    "np.percentile(diff, 99.9999)"
   ]
  },
  {
   "cell_type": "code",
   "execution_count": 16,
   "metadata": {},
   "outputs": [
    {
     "data": {
      "text/plain": [
       "array([1833.14289904])"
      ]
     },
     "execution_count": 16,
     "metadata": {},
     "output_type": "execute_result"
    }
   ],
   "source": [
    "np.percentile(area, [1])"
   ]
  },
  {
   "cell_type": "code",
   "execution_count": 17,
   "metadata": {},
   "outputs": [],
   "source": [
    "center_m[area < 100] = np.nan\n",
    "center_m[diff > 0.1] = np.nan"
   ]
  },
  {
   "cell_type": "code",
   "execution_count": 18,
   "metadata": {},
   "outputs": [
    {
     "data": {
      "text/plain": [
       "(275, 2, 2)"
      ]
     },
     "execution_count": 18,
     "metadata": {},
     "output_type": "execute_result"
    }
   ],
   "source": [
    "center_m.shape"
   ]
  },
  {
   "cell_type": "code",
   "execution_count": 19,
   "metadata": {},
   "outputs": [
    {
     "data": {
      "text/plain": [
       "(275, 2)"
      ]
     },
     "execution_count": 19,
     "metadata": {},
     "output_type": "execute_result"
    }
   ],
   "source": [
    "position = center_m.mean(axis=1)\n",
    "position.shape"
   ]
  },
  {
   "cell_type": "code",
   "execution_count": 20,
   "metadata": {},
   "outputs": [
    {
     "data": {
      "image/png": "[encoded data removed]",
      "text/plain": [
       "<Figure size 720x720 with 1 Axes>"
      ]
     },
     "metadata": {
      "needs_background": "light"
     },
     "output_type": "display_data"
    }
   ],
   "source": [
    "fig = plt.figure(figsize=(10, 10))\n",
    "ax = fig.add_subplot(111)\n",
    "ax.set_aspect('equal')\n",
    "\n",
    "plt.plot(position[:, 0], position[:, 1], marker='.')\n",
    "plt.show()"
   ]
  },
  {
   "cell_type": "code",
   "execution_count": 21,
   "metadata": {},
   "outputs": [],
   "source": [
    "xdp = center[:, 0, 0]\n",
    "ydp = center[:, 0, 1]\n",
    "tdp = np.arange(0, frameCount)/frameRate"
   ]
  },
  {
   "cell_type": "code",
   "execution_count": 22,
   "metadata": {},
   "outputs": [],
   "source": [
    "combined = video.numpy().copy()\n",
    "#combined[:, :2][mask[:, :2] > 0.01] = mask[:, :2][mask[:, :2] > 0.01]\n",
    "combined = combined*255\n",
    "combined = combined.astype(np.uint8)\n",
    "combined = np.swapaxes(combined, 1, -1)\n",
    "combined = np.swapaxes(combined, 1, 2)"
   ]
  },
  {
   "cell_type": "code",
   "execution_count": 23,
   "metadata": {},
   "outputs": [],
   "source": [
    "imgs = []\n",
    "for idx, img in enumerate(combined):\n",
    "    img = Image.fromarray(img)\n",
    "    draw = ImageDraw.Draw(img)\n",
    "\n",
    "    cx = center[idx, :, 0]*RES\n",
    "    cy = (1 - center[idx, :, 1])*RES\n",
    "\n",
    "    draw.line([(cx[0], cy[0]), (cx[1], cy[1])], fill=(0, 0, 255), width=2)\n",
    "\n",
    "    size = 5\n",
    "    inside = (cx[0] - size, cy[0] - size, cx[0] + size, cy[0] + size)\n",
    "    outside = (cx[1] - size, cy[1] - size, cx[1] + size, cy[1] + size)\n",
    "\n",
    "    draw.ellipse(inside, fill=(0, 200, 0))\n",
    "    draw.ellipse(outside, fill=(0, 200, 0))\n",
    "\n",
    "    draw.ellipse(np.mean((inside, outside), axis=0).tolist(), fill=(255, 0, 0))\n",
    "\n",
    "    imgs.append(img)"
   ]
  },
  {
   "cell_type": "code",
   "execution_count": 24,
   "metadata": {},
   "outputs": [],
   "source": [
    "imgs[0].save(\"test_out.gif\", save_all=True, append_images=imgs[::2], duration=2*1000/frameRate, loop=0)"
   ]
  },
  {
   "cell_type": "markdown",
   "metadata": {},
   "source": [
    "<img src=\"test_out.gif\" width=\"500\" align=\"center\"> "
   ]
  }
 ],
 "metadata": {
  "interpreter": {
   "hash": "510828a6ceb96cf12c7695cd7ede5d0e29dac9186363d9819ab7ea56a46f0e7e"
  },
  "kernelspec": {
   "display_name": "Python 3.9.2 ('venv': venv)",
   "language": "python",
   "name": "python3"
  },
  "language_info": {
   "codemirror_mode": {
    "name": "ipython",
    "version": 3
   },
   "file_extension": ".py",
   "mimetype": "text/x-python",
   "name": "python",
   "nbconvert_exporter": "python",
   "pygments_lexer": "ipython3",
   "version": "3.9.2"
  },
  "orig_nbformat": 4
 },
 "nbformat": 4,
 "nbformat_minor": 2
}
