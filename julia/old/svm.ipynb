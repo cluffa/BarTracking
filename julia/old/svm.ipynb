{
 "cells": [
  {
   "cell_type": "code",
   "execution_count": 5,
   "metadata": {},
   "outputs": [],
   "source": [
    "using LIBSVM, Statistics, ColorTypes, BSON\n",
    "using BSON: @load, @save"
   ]
  },
  {
   "cell_type": "code",
   "execution_count": 6,
   "metadata": {},
   "outputs": [],
   "source": [
    "@load \"data.bson\" images masks boxes"
   ]
  },
  {
   "cell_type": "code",
   "execution_count": 7,
   "metadata": {},
   "outputs": [
    {
     "data": {
      "text/plain": [
       "(\"300×300×3×931 Array{Float32, 4}\", \"300×300×2×931 Array{Float32, 4}\", \"931×8 Matrix{Float32}\")"
      ]
     },
     "metadata": {},
     "output_type": "display_data"
    }
   ],
   "source": [
    "#images = permutedims(images, (4, 1, 2, 3));\n",
    "boxes = permutedims(boxes, (2, 1));\n",
    "images |> summary, masks |> summary, boxes |> summary"
   ]
  },
  {
   "cell_type": "code",
   "execution_count": 8,
   "metadata": {},
   "outputs": [],
   "source": [
    "x_train = reshape(images, 300*300*3, 931);\n",
    "y_train = copy(boxes);"
   ]
  },
  {
   "cell_type": "code",
   "execution_count": 9,
   "metadata": {},
   "outputs": [],
   "source": [
    "model = svmtrain(x_train, y_train[:, 1], nt = 12);"
   ]
  },
  {
   "cell_type": "code",
   "execution_count": 11,
   "metadata": {},
   "outputs": [],
   "source": [
    "pred = svmpredict(model, x_train)"
   ]
  },
  {
   "cell_type": "code",
   "execution_count": 10,
   "metadata": {},
   "outputs": [
    {
     "ename": "Base.PaddingError",
     "evalue": "Padding of type UInt8 is not compatible with type LIBSVM.SVMNode.",
     "output_type": "error",
     "traceback": [
      "Padding of type UInt8 is not compatible with type LIBSVM.SVMNode.\n",
      "\n",
      "Stacktrace:\n",
      "  [1] check_readable\n",
      "    @ .\\reinterpretarray.jl:192 [inlined]\n",
      "  [2] getindex\n",
      "    @ .\\reinterpretarray.jl:350 [inlined]\n",
      "  [3] iterate\n",
      "    @ .\\abstractarray.jl:1162 [inlined]\n",
      "  [4] iterate\n",
      "    @ .\\abstractarray.jl:1160 [inlined]\n",
      "  [5] reinterpret_(#unused#::Type{UInt8}, x::Vector{LIBSVM.SVMNode})\n",
      "    @ BSON C:\\Users\\AlexC\\.julia\\packages\\BSON\\rOaki\\src\\extensions.jl:78\n",
      "  [6] lower\n",
      "    @ C:\\Users\\AlexC\\.julia\\packages\\BSON\\rOaki\\src\\extensions.jl:83 [inlined]\n",
      "  [7] _lower_recursive(x::Vector{LIBSVM.SVMNode}, cache::IdDict{Any, Any}, refs::Vector{Any})\n",
      "    @ BSON C:\\Users\\AlexC\\.julia\\packages\\BSON\\rOaki\\src\\write.jl:66\n",
      "  [8] (::BSON.var\"#5#9\"{IdDict{Any, Any}, Vector{Any}})(x::Vector{LIBSVM.SVMNode})\n",
      "    @ BSON C:\\Users\\AlexC\\.julia\\packages\\BSON\\rOaki\\src\\write.jl:66\n",
      "  [9] applychildren!(f::BSON.var\"#5#9\"{IdDict{Any, Any}, Vector{Any}}, x::Vector{Any})\n",
      "    @ BSON C:\\Users\\AlexC\\.julia\\packages\\BSON\\rOaki\\src\\BSON.jl:26\n",
      " [10] _lower_recursive(x::Vector{Any}, cache::IdDict{Any, Any}, refs::Vector{Any})\n",
      "    @ BSON C:\\Users\\AlexC\\.julia\\packages\\BSON\\rOaki\\src\\write.jl:66\n",
      " [11] (::BSON.var\"#3#7\"{IdDict{Any, Any}, Vector{Any}})(x::Vector{Any})\n",
      "    @ BSON C:\\Users\\AlexC\\.julia\\packages\\BSON\\rOaki\\src\\write.jl:57\n",
      " [12] applychildren!(f::BSON.var\"#3#7\"{IdDict{Any, Any}, Vector{Any}}, x::Dict{Symbol, Any})\n",
      "    @ BSON C:\\Users\\AlexC\\.julia\\packages\\BSON\\rOaki\\src\\BSON.jl:19\n",
      " [13] _lower\n",
      "    @ C:\\Users\\AlexC\\.julia\\packages\\BSON\\rOaki\\src\\write.jl:57 [inlined]\n",
      " [14] _lower_recursive\n",
      "    @ C:\\Users\\AlexC\\.julia\\packages\\BSON\\rOaki\\src\\write.jl:58 [inlined]\n",
      " [15] (::BSON.var\"#5#9\"{IdDict{Any, Any}, Vector{Any}})(x::LIBSVM.SupportVectors{Vector{Float32}, Matrix{Float32}})\n",
      "    @ BSON C:\\Users\\AlexC\\.julia\\packages\\BSON\\rOaki\\src\\write.jl:66\n",
      " [16] applychildren!(f::BSON.var\"#5#9\"{IdDict{Any, Any}, Vector{Any}}, x::Vector{Any})\n",
      "    @ BSON C:\\Users\\AlexC\\.julia\\packages\\BSON\\rOaki\\src\\BSON.jl:26\n",
      " [17] _lower_recursive(x::Vector{Any}, cache::IdDict{Any, Any}, refs::Vector{Any})\n",
      "    @ BSON C:\\Users\\AlexC\\.julia\\packages\\BSON\\rOaki\\src\\write.jl:66\n",
      " [18] (::BSON.var\"#3#7\"{IdDict{Any, Any}, Vector{Any}})(x::Vector{Any})\n",
      "    @ BSON C:\\Users\\AlexC\\.julia\\packages\\BSON\\rOaki\\src\\write.jl:57\n",
      " [19] applychildren!(f::BSON.var\"#3#7\"{IdDict{Any, Any}, Vector{Any}}, x::Dict{Symbol, Any})\n",
      "    @ BSON C:\\Users\\AlexC\\.julia\\packages\\BSON\\rOaki\\src\\BSON.jl:19\n",
      " [20] _lower\n",
      "    @ C:\\Users\\AlexC\\.julia\\packages\\BSON\\rOaki\\src\\write.jl:57 [inlined]\n",
      " [21] _lower_recursive\n",
      "    @ C:\\Users\\AlexC\\.julia\\packages\\BSON\\rOaki\\src\\write.jl:58 [inlined]\n",
      " [22] (::BSON.var\"#5#9\"{IdDict{Any, Any}, Vector{Any}})(x::LIBSVM.SVM{Float32, LIBSVM.Kernel.KERNEL})\n",
      "    @ BSON C:\\Users\\AlexC\\.julia\\packages\\BSON\\rOaki\\src\\write.jl:66\n",
      " [23] applychildren!(f::BSON.var\"#5#9\"{IdDict{Any, Any}, Vector{Any}}, x::Dict{Symbol, Any})\n",
      "    @ BSON C:\\Users\\AlexC\\.julia\\packages\\BSON\\rOaki\\src\\BSON.jl:19\n",
      " [24] _lower_recursive(x::Dict{Symbol, LIBSVM.SVM{Float32, LIBSVM.Kernel.KERNEL}}, cache::IdDict{Any, Any}, refs::Vector{Any})\n",
      "    @ BSON C:\\Users\\AlexC\\.julia\\packages\\BSON\\rOaki\\src\\write.jl:66\n",
      " [25] lower_recursive(y::Dict{Symbol, LIBSVM.SVM{Float32, LIBSVM.Kernel.KERNEL}})\n",
      "    @ BSON C:\\Users\\AlexC\\.julia\\packages\\BSON\\rOaki\\src\\write.jl:77\n",
      " [26] bson(io::IOStream, doc::Dict{Symbol, LIBSVM.SVM{Float32, LIBSVM.Kernel.KERNEL}})\n",
      "    @ BSON C:\\Users\\AlexC\\.julia\\packages\\BSON\\rOaki\\src\\write.jl:85\n",
      " [27] #12\n",
      "    @ C:\\Users\\AlexC\\.julia\\packages\\BSON\\rOaki\\src\\write.jl:87 [inlined]\n",
      " [28] open(::BSON.var\"#12#13\"{Dict{Symbol, LIBSVM.SVM{Float32, LIBSVM.Kernel.KERNEL}}}, ::String, ::Vararg{String}; kwargs::Base.Pairs{Symbol, Union{}, Tuple{}, NamedTuple{(), Tuple{}}})\n",
      "    @ Base .\\io.jl:384\n",
      " [29] open\n",
      "    @ .\\io.jl:381 [inlined]\n",
      " [30] bson(path::String, doc::Dict{Symbol, LIBSVM.SVM{Float32, LIBSVM.Kernel.KERNEL}})\n",
      "    @ BSON C:\\Users\\AlexC\\.julia\\packages\\BSON\\rOaki\\src\\write.jl:87\n",
      " [31] top-level scope\n",
      "    @ c:\\Users\\AlexC\\workspace\\bar_tracking\\julia\\svm.ipynb:1\n",
      " [32] eval\n",
      "    @ .\\boot.jl:368 [inlined]\n",
      " [33] include_string(mapexpr::typeof(REPL.softscope), mod::Module, code::String, filename::String)\n",
      "    @ Base .\\loading.jl:1281\n",
      " [34] #invokelatest#2\n",
      "    @ .\\essentials.jl:729 [inlined]\n",
      " [35] invokelatest\n",
      "    @ .\\essentials.jl:726 [inlined]\n",
      " [36] (::VSCodeServer.var\"#164#165\"{VSCodeServer.NotebookRunCellArguments, String})()\n",
      "    @ VSCodeServer c:\\Users\\AlexC\\.vscode\\extensions\\julialang.language-julia-1.6.24\\scripts\\packages\\VSCodeServer\\src\\serve_notebook.jl:19\n",
      " [37] withpath(f::VSCodeServer.var\"#164#165\"{VSCodeServer.NotebookRunCellArguments, String}, path::String)\n",
      "    @ VSCodeServer c:\\Users\\AlexC\\.vscode\\extensions\\julialang.language-julia-1.6.24\\scripts\\packages\\VSCodeServer\\src\\repl.jl:184\n",
      " [38] notebook_runcell_request(conn::VSCodeServer.JSONRPC.JSONRPCEndpoint{Base.PipeEndpoint, Base.PipeEndpoint}, params::VSCodeServer.NotebookRunCellArguments)\n",
      "    @ VSCodeServer c:\\Users\\AlexC\\.vscode\\extensions\\julialang.language-julia-1.6.24\\scripts\\packages\\VSCodeServer\\src\\serve_notebook.jl:13\n",
      " [39] dispatch_msg(x::VSCodeServer.JSONRPC.JSONRPCEndpoint{Base.PipeEndpoint, Base.PipeEndpoint}, dispatcher::VSCodeServer.JSONRPC.MsgDispatcher, msg::Dict{String, Any})\n",
      "    @ VSCodeServer.JSONRPC c:\\Users\\AlexC\\.vscode\\extensions\\julialang.language-julia-1.6.24\\scripts\\packages\\JSONRPC\\src\\typed.jl:67\n",
      " [40] serve_notebook(pipename::String, outputchannel_logger::Base.CoreLogging.SimpleLogger; crashreporting_pipename::String)\n",
      "    @ VSCodeServer c:\\Users\\AlexC\\.vscode\\extensions\\julialang.language-julia-1.6.24\\scripts\\packages\\VSCodeServer\\src\\serve_notebook.jl:136\n",
      " [41] top-level scope\n",
      "    @ c:\\Users\\AlexC\\.vscode\\extensions\\julialang.language-julia-1.6.24\\scripts\\notebook\\notebook.jl:32\n",
      " [42] include(mod::Module, _path::String)\n",
      "    @ Base .\\Base.jl:422\n",
      " [43] exec_options(opts::Base.JLOptions)\n",
      "    @ Base .\\client.jl:303\n",
      " [44] _start()\n",
      "    @ Base .\\client.jl:522"
     ]
    }
   ],
   "source": [
    "@save \"svm.bson\" model"
   ]
  },
  {
   "cell_type": "code",
   "execution_count": null,
   "metadata": {},
   "outputs": [],
   "source": []
  }
 ],
 "metadata": {
  "kernelspec": {
   "display_name": "Julia 1.8.0-rc1",
   "language": "julia",
   "name": "julia-1.8"
  },
  "language_info": {
   "file_extension": ".jl",
   "mimetype": "application/julia",
   "name": "julia",
   "version": "1.8.0-rc1"
  },
  "orig_nbformat": 4
 },
 "nbformat": 4,
 "nbformat_minor": 2
}
