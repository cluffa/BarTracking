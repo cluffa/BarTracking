{
 "cells": [
  {
   "cell_type": "code",
   "execution_count": 2,
   "metadata": {},
   "outputs": [
    {
     "name": "stderr",
     "output_type": "stream",
     "text": [
      "/root/workspace/bar_tracking/venv/lib/python3.9/site-packages/torch/nn/functional.py:2498: UserWarning: __floordiv__ is deprecated, and its behavior will change in a future version of pytorch. It currently rounds toward 0 (like the 'trunc' function NOT 'floor'). This results in incorrect rounding for negative values. To keep the current behavior, use torch.div(a, b, rounding_mode='trunc'), or for actual floor division, use torch.div(a, b, rounding_mode='floor').\n",
      "  _verify_batch_size([input.size(0) * input.size(1) // num_groups, num_groups] + list(input.size()[2:]))\n",
      "/root/workspace/bar_tracking/venv/lib/python3.9/site-packages/timm/models/layers/padding.py:19: TracerWarning: Converting a tensor to a Python float might cause the trace to be incorrect. We can't record the data flow of Python values, so this value will be treated as a constant in the future. This means that the trace might not generalize to other inputs!\n",
      "  return max((math.ceil(x / s) - 1) * s + (k - 1) * d + 1 - x, 0)\n",
      "/root/workspace/bar_tracking/venv/lib/python3.9/site-packages/timm/models/layers/padding.py:19: TracerWarning: Converting a tensor to a Python boolean might cause the trace to be incorrect. We can't record the data flow of Python values, so this value will be treated as a constant in the future. This means that the trace might not generalize to other inputs!\n",
      "  return max((math.ceil(x / s) - 1) * s + (k - 1) * d + 1 - x, 0)\n",
      "/root/workspace/bar_tracking/venv/lib/python3.9/site-packages/timm/models/layers/padding.py:31: TracerWarning: Converting a tensor to a Python boolean might cause the trace to be incorrect. We can't record the data flow of Python values, so this value will be treated as a constant in the future. This means that the trace might not generalize to other inputs!\n",
      "  if pad_h > 0 or pad_w > 0:\n",
      "/root/workspace/bar_tracking/venv/lib/python3.9/site-packages/timm/models/layers/padding.py:32: UserWarning: __floordiv__ is deprecated, and its behavior will change in a future version of pytorch. It currently rounds toward 0 (like the 'trunc' function NOT 'floor'). This results in incorrect rounding for negative values. To keep the current behavior, use torch.div(a, b, rounding_mode='trunc'), or for actual floor division, use torch.div(a, b, rounding_mode='floor').\n",
      "  x = F.pad(x, [pad_w // 2, pad_w - pad_w // 2, pad_h // 2, pad_h - pad_h // 2], value=value)\n",
      "Warning: Constant folding - Only steps=1 can be constant folded for opset >= 10 onnx::Slice op. Constant folding not applied.\n",
      "Warning: Constant folding - Only steps=1 can be constant folded for opset >= 10 onnx::Slice op. Constant folding not applied.\n"
     ]
    }
   ],
   "source": [
    "import json\n",
    "import torch\n",
    "\n",
    "with open('model_info.json', 'r') as f:\n",
    "    model_info = json.load(f)\n",
    "\n",
    "with open('../../BarTracking/model_info.json', 'w') as f:\n",
    "    json.dump(model_info, f, indent=4)\n",
    "    \n",
    "for model_path in model_info.keys():\n",
    "    model = torch.load(model_path, map_location='cpu')\n",
    "    torch.onnx.export(model, torch.rand(1, 3, 320, 320), '../../BarTracking/' + model_path.replace('.pth', '.onnx'), export_params=True, opset_version=11)"
   ]
  },
  {
   "cell_type": "code",
   "execution_count": 4,
   "metadata": {},
   "outputs": [],
   "source": [
    "import os\n",
    "import onnx\n",
    "import onnxsim\n",
    "\n",
    "# list all files that are onnx\n",
    "models = os.listdir('../../BarTracking/')\n",
    "models = [model for model in models if model.endswith('.onnx')]\n",
    "for model in models:\n",
    "    # load the model\n",
    "    onnx_model = onnx.load('../../BarTracking/' + model)\n",
    "    # run the model\n",
    "    optim_model, success = onnxsim.simplify(onnx_model)\n",
    "    assert success\n",
    "    onnx.save(optim_model, '../../BarTracking/' + model.replace('.onnx', '_simplified.onnx'))\n",
    "    \n"
   ]
  },
  {
   "cell_type": "code",
   "execution_count": 1,
   "metadata": {},
   "outputs": [],
   "source": [
    "import onnxruntime as ort\n",
    "import numpy as np\n",
    "\n",
    "def load_onnx_model(onnx_model_file):\n",
    "   try:\n",
    "       session = ort.InferenceSession(onnx_model_file, providers=['CUDAExecutionProvider', 'CPUExecutionProvider'])\n",
    "\n",
    "   except (TypeError, RuntimeError) as e:\n",
    "       # It is possible for there to be a mismatch between the onnxruntime and the\n",
    "       # version of the onnx model format.\n",
    "       print(e)\n",
    "       raise e\n",
    "   return session\n",
    "\n",
    "def onnx_infer(onnx_session, image_samples):\n",
    "   input_name = onnx_session.get_inputs()[0].name\n",
    "   result = onnx_session.run(None, {input_name: image_samples})\n",
    "   return result[0]"
   ]
  },
  {
   "cell_type": "code",
   "execution_count": null,
   "metadata": {},
   "outputs": [],
   "source": [
    "ses = load_onnx_model('./timm-mobilenetv3_small_minimal_100_model.onnx')"
   ]
  }
 ],
 "metadata": {
  "interpreter": {
   "hash": "510828a6ceb96cf12c7695cd7ede5d0e29dac9186363d9819ab7ea56a46f0e7e"
  },
  "kernelspec": {
   "display_name": "Python 3.9.2 ('venv': venv)",
   "language": "python",
   "name": "python3"
  },
  "language_info": {
   "codemirror_mode": {
    "name": "ipython",
    "version": 3
   },
   "file_extension": ".py",
   "mimetype": "text/x-python",
   "name": "python",
   "nbconvert_exporter": "python",
   "pygments_lexer": "ipython3",
   "version": "3.9.2"
  },
  "orig_nbformat": 4
 },
 "nbformat": 4,
 "nbformat_minor": 2
}
